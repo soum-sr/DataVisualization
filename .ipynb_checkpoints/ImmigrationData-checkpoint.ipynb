{
 "cells": [
  {
   "cell_type": "code",
   "execution_count": 1,
   "metadata": {
    "ExecuteTime": {
     "end_time": "2020-05-15T19:30:17.231220Z",
     "start_time": "2020-05-15T19:30:07.262238Z"
    }
   },
   "outputs": [],
   "source": [
    "import numpy as np\n",
    "import pandas as pd"
   ]
  },
  {
   "cell_type": "code",
   "execution_count": 4,
   "metadata": {
    "ExecuteTime": {
     "end_time": "2020-05-15T19:31:57.346138Z",
     "start_time": "2020-05-15T19:31:34.703643Z"
    }
   },
   "outputs": [
    {
     "name": "stdout",
     "output_type": "stream",
     "text": [
      "Collecting xlrd\n",
      "  Downloading https://files.pythonhosted.org/packages/b0/16/63576a1a001752e34bf8ea62e367997530dc553b689356b9879339cf45a4/xlrd-1.2.0-py2.py3-none-any.whl (103kB)\n",
      "Installing collected packages: xlrd\n",
      "Successfully installed xlrd-1.2.0\n"
     ]
    },
    {
     "name": "stderr",
     "output_type": "stream",
     "text": [
      "WARNING: You are using pip version 19.3.1; however, version 20.1 is available.\n",
      "You should consider upgrading via the 'python -m pip install --upgrade pip' command.\n"
     ]
    }
   ],
   "source": [
    "!pip install xlrd"
   ]
  },
  {
   "cell_type": "code",
   "execution_count": 14,
   "metadata": {
    "ExecuteTime": {
     "end_time": "2020-05-15T19:49:01.144238Z",
     "start_time": "2020-05-15T19:49:00.489617Z"
    },
    "scrolled": true
   },
   "outputs": [
    {
     "data": {
      "text/html": [
       "<div>\n",
       "<style scoped>\n",
       "    .dataframe tbody tr th:only-of-type {\n",
       "        vertical-align: middle;\n",
       "    }\n",
       "\n",
       "    .dataframe tbody tr th {\n",
       "        vertical-align: top;\n",
       "    }\n",
       "\n",
       "    .dataframe thead th {\n",
       "        text-align: right;\n",
       "    }\n",
       "</style>\n",
       "<table border=\"1\" class=\"dataframe\">\n",
       "  <thead>\n",
       "    <tr style=\"text-align: right;\">\n",
       "      <th></th>\n",
       "      <th>Type</th>\n",
       "      <th>Coverage</th>\n",
       "      <th>AreaName</th>\n",
       "      <th>RegName</th>\n",
       "      <th>1980</th>\n",
       "      <th>1981</th>\n",
       "      <th>1982</th>\n",
       "      <th>1983</th>\n",
       "      <th>1984</th>\n",
       "      <th>1985</th>\n",
       "      <th>...</th>\n",
       "      <th>2004</th>\n",
       "      <th>2005</th>\n",
       "      <th>2006</th>\n",
       "      <th>2007</th>\n",
       "      <th>2008</th>\n",
       "      <th>2009</th>\n",
       "      <th>2010</th>\n",
       "      <th>2011</th>\n",
       "      <th>2012</th>\n",
       "      <th>2013</th>\n",
       "    </tr>\n",
       "  </thead>\n",
       "  <tbody>\n",
       "    <tr>\n",
       "      <th>0</th>\n",
       "      <td>Emigrants</td>\n",
       "      <td>Both</td>\n",
       "      <td>Africa</td>\n",
       "      <td>Eastern Africa</td>\n",
       "      <td>430</td>\n",
       "      <td>560</td>\n",
       "      <td>530</td>\n",
       "      <td>550</td>\n",
       "      <td>540</td>\n",
       "      <td>610</td>\n",
       "      <td>...</td>\n",
       "      <td>1140</td>\n",
       "      <td>1180</td>\n",
       "      <td>1130</td>\n",
       "      <td>1180</td>\n",
       "      <td>1320</td>\n",
       "      <td>..</td>\n",
       "      <td>..</td>\n",
       "      <td>..</td>\n",
       "      <td>..</td>\n",
       "      <td>NaN</td>\n",
       "    </tr>\n",
       "    <tr>\n",
       "      <th>1</th>\n",
       "      <td>Emigrants</td>\n",
       "      <td>Both</td>\n",
       "      <td>Africa</td>\n",
       "      <td>Middle Africa</td>\n",
       "      <td>10</td>\n",
       "      <td>..</td>\n",
       "      <td>10</td>\n",
       "      <td>10</td>\n",
       "      <td>20</td>\n",
       "      <td>..</td>\n",
       "      <td>...</td>\n",
       "      <td>40</td>\n",
       "      <td>30</td>\n",
       "      <td>40</td>\n",
       "      <td>50</td>\n",
       "      <td>40</td>\n",
       "      <td>..</td>\n",
       "      <td>..</td>\n",
       "      <td>..</td>\n",
       "      <td>..</td>\n",
       "      <td>NaN</td>\n",
       "    </tr>\n",
       "    <tr>\n",
       "      <th>2</th>\n",
       "      <td>Emigrants</td>\n",
       "      <td>Both</td>\n",
       "      <td>Africa</td>\n",
       "      <td>Northern Africa</td>\n",
       "      <td>310</td>\n",
       "      <td>300</td>\n",
       "      <td>300</td>\n",
       "      <td>340</td>\n",
       "      <td>270</td>\n",
       "      <td>280</td>\n",
       "      <td>...</td>\n",
       "      <td>410</td>\n",
       "      <td>450</td>\n",
       "      <td>470</td>\n",
       "      <td>550</td>\n",
       "      <td>570</td>\n",
       "      <td>..</td>\n",
       "      <td>..</td>\n",
       "      <td>..</td>\n",
       "      <td>..</td>\n",
       "      <td>NaN</td>\n",
       "    </tr>\n",
       "    <tr>\n",
       "      <th>3</th>\n",
       "      <td>Emigrants</td>\n",
       "      <td>Both</td>\n",
       "      <td>Africa</td>\n",
       "      <td>Southern Africa</td>\n",
       "      <td>790</td>\n",
       "      <td>870</td>\n",
       "      <td>840</td>\n",
       "      <td>980</td>\n",
       "      <td>940</td>\n",
       "      <td>690</td>\n",
       "      <td>...</td>\n",
       "      <td>1760</td>\n",
       "      <td>1640</td>\n",
       "      <td>1600</td>\n",
       "      <td>1480</td>\n",
       "      <td>1540</td>\n",
       "      <td>..</td>\n",
       "      <td>..</td>\n",
       "      <td>..</td>\n",
       "      <td>..</td>\n",
       "      <td>NaN</td>\n",
       "    </tr>\n",
       "    <tr>\n",
       "      <th>4</th>\n",
       "      <td>Emigrants</td>\n",
       "      <td>Both</td>\n",
       "      <td>Africa</td>\n",
       "      <td>Western Africa</td>\n",
       "      <td>220</td>\n",
       "      <td>240</td>\n",
       "      <td>160</td>\n",
       "      <td>210</td>\n",
       "      <td>160</td>\n",
       "      <td>190</td>\n",
       "      <td>...</td>\n",
       "      <td>240</td>\n",
       "      <td>230</td>\n",
       "      <td>150</td>\n",
       "      <td>270</td>\n",
       "      <td>220</td>\n",
       "      <td>..</td>\n",
       "      <td>..</td>\n",
       "      <td>..</td>\n",
       "      <td>..</td>\n",
       "      <td>NaN</td>\n",
       "    </tr>\n",
       "  </tbody>\n",
       "</table>\n",
       "<p>5 rows × 38 columns</p>\n",
       "</div>"
      ],
      "text/plain": [
       "        Type Coverage AreaName          RegName 1980 1981 1982 1983 1984 1985  \\\n",
       "0  Emigrants     Both   Africa   Eastern Africa  430  560  530  550  540  610   \n",
       "1  Emigrants     Both   Africa    Middle Africa   10   ..   10   10   20   ..   \n",
       "2  Emigrants     Both   Africa  Northern Africa  310  300  300  340  270  280   \n",
       "3  Emigrants     Both   Africa  Southern Africa  790  870  840  980  940  690   \n",
       "4  Emigrants     Both   Africa   Western Africa  220  240  160  210  160  190   \n",
       "\n",
       "   ...  2004  2005  2006  2007  2008 2009 2010 2011  2012  2013  \n",
       "0  ...  1140  1180  1130  1180  1320   ..   ..   ..    ..   NaN  \n",
       "1  ...    40    30    40    50    40   ..   ..   ..    ..   NaN  \n",
       "2  ...   410   450   470   550   570   ..   ..   ..    ..   NaN  \n",
       "3  ...  1760  1640  1600  1480  1540   ..   ..   ..    ..   NaN  \n",
       "4  ...   240   230   150   270   220   ..   ..   ..    ..   NaN  \n",
       "\n",
       "[5 rows x 38 columns]"
      ]
     },
     "execution_count": 14,
     "metadata": {},
     "output_type": "execute_result"
    }
   ],
   "source": [
    "data_aus = pd.read_excel('Australia.xlsx',skiprows=range(20), skipfooter=2 )\n",
    "data_aus.head()"
   ]
  },
  {
   "cell_type": "code",
   "execution_count": null,
   "metadata": {},
   "outputs": [],
   "source": []
  }
 ],
 "metadata": {
  "kernelspec": {
   "display_name": "Python 3",
   "language": "python",
   "name": "python3"
  },
  "language_info": {
   "codemirror_mode": {
    "name": "ipython",
    "version": 3
   },
   "file_extension": ".py",
   "mimetype": "text/x-python",
   "name": "python",
   "nbconvert_exporter": "python",
   "pygments_lexer": "ipython3",
   "version": "3.6.5"
  }
 },
 "nbformat": 4,
 "nbformat_minor": 2
}
